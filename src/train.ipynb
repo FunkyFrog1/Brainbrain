{
 "cells": [
  {
   "cell_type": "code",
   "execution_count": 1,
   "id": "dffb5000",
   "metadata": {},
   "outputs": [
    {
     "name": "stdout",
     "output_type": "stream",
     "text": [
      "cuda:0\n"
     ]
    }
   ],
   "source": [
    "import torch\n",
    "from xformers.ops import memory_efficient_attention\n",
    "\n",
    "device = torch.device('cuda:0' if torch.cuda.is_available() else 'cpu')\n",
    "print(device)"
   ]
  },
  {
   "cell_type": "markdown",
   "id": "8670321e",
   "metadata": {},
   "source": [
    "# 测试xformers是否生效\n"
   ]
  },
  {
   "cell_type": "code",
   "execution_count": 2,
   "id": "5f22c4cc",
   "metadata": {},
   "outputs": [
    {
     "ename": "NotImplementedError",
     "evalue": "No operator found for `memory_efficient_attention_forward` with inputs:\n     query       : shape=(4, 128, 8, 16) (torch.float32)\n     key         : shape=(4, 128, 8, 16) (torch.float32)\n     value       : shape=(4, 128, 8, 16) (torch.float32)\n     attn_bias   : <class 'NoneType'>\n     p           : 0.0\n`decoderF` is not supported because:\n    xFormers wasn't build with CUDA support\n    requires device with capability > (7, 0) but your GPU has capability (6, 1) (too old)\n    attn_bias type is <class 'NoneType'>\n`flshattF@0.0.0` is not supported because:\n    xFormers wasn't build with CUDA support\n    requires device with capability > (8, 0) but your GPU has capability (6, 1) (too old)\n    dtype=torch.float32 (supported: {torch.bfloat16, torch.float16})\n    operator wasn't built - see `python -m xformers.info` for more info\n`cutlassF` is not supported because:\n    xFormers wasn't build with CUDA support\n`smallkF` is not supported because:\n    xFormers wasn't build with CUDA support",
     "output_type": "error",
     "traceback": [
      "\u001b[1;31m---------------------------------------------------------------------------\u001b[0m",
      "\u001b[1;31mNotImplementedError\u001b[0m                       Traceback (most recent call last)",
      "Cell \u001b[1;32mIn[2], line 5\u001b[0m\n\u001b[0;32m      2\u001b[0m k \u001b[38;5;241m=\u001b[39m torch\u001b[38;5;241m.\u001b[39mrand(\u001b[38;5;241m4\u001b[39m, \u001b[38;5;241m128\u001b[39m, \u001b[38;5;241m8\u001b[39m, \u001b[38;5;241m16\u001b[39m)\u001b[38;5;241m.\u001b[39mto(device)\n\u001b[0;32m      3\u001b[0m v \u001b[38;5;241m=\u001b[39m torch\u001b[38;5;241m.\u001b[39mrand(\u001b[38;5;241m4\u001b[39m, \u001b[38;5;241m128\u001b[39m, \u001b[38;5;241m8\u001b[39m, \u001b[38;5;241m16\u001b[39m)\u001b[38;5;241m.\u001b[39mto(device)\n\u001b[1;32m----> 5\u001b[0m o \u001b[38;5;241m=\u001b[39m memory_efficient_attention(q, k, v)\n\u001b[0;32m      7\u001b[0m \u001b[38;5;28mprint\u001b[39m(o)\n",
      "File \u001b[1;32mD:\\anaconda3\\envs\\brain\\Lib\\site-packages\\xformers\\ops\\fmha\\__init__.py:268\u001b[0m, in \u001b[0;36mmemory_efficient_attention\u001b[1;34m(query, key, value, attn_bias, p, scale, op, output_dtype)\u001b[0m\n\u001b[0;32m    156\u001b[0m \u001b[38;5;28;01mdef\u001b[39;00m \u001b[38;5;21mmemory_efficient_attention\u001b[39m(\n\u001b[0;32m    157\u001b[0m     query: torch\u001b[38;5;241m.\u001b[39mTensor,\n\u001b[0;32m    158\u001b[0m     key: torch\u001b[38;5;241m.\u001b[39mTensor,\n\u001b[1;32m   (...)\u001b[0m\n\u001b[0;32m    165\u001b[0m     output_dtype: Optional[torch\u001b[38;5;241m.\u001b[39mdtype] \u001b[38;5;241m=\u001b[39m \u001b[38;5;28;01mNone\u001b[39;00m,\n\u001b[0;32m    166\u001b[0m ) \u001b[38;5;241m-\u001b[39m\u001b[38;5;241m>\u001b[39m torch\u001b[38;5;241m.\u001b[39mTensor:\n\u001b[0;32m    167\u001b[0m \u001b[38;5;250m    \u001b[39m\u001b[38;5;124;03m\"\"\"Implements the memory-efficient attention mechanism following\u001b[39;00m\n\u001b[0;32m    168\u001b[0m \u001b[38;5;124;03m    `\"Self-Attention Does Not Need O(n^2) Memory\" <http://arxiv.org/abs/2112.05682>`_.\u001b[39;00m\n\u001b[0;32m    169\u001b[0m \n\u001b[1;32m   (...)\u001b[0m\n\u001b[0;32m    266\u001b[0m \u001b[38;5;124;03m    :return: multi-head attention Tensor with shape ``[B, Mq, H, Kv]``\u001b[39;00m\n\u001b[0;32m    267\u001b[0m \u001b[38;5;124;03m    \"\"\"\u001b[39;00m\n\u001b[1;32m--> 268\u001b[0m     \u001b[38;5;28;01mreturn\u001b[39;00m _memory_efficient_attention(\n\u001b[0;32m    269\u001b[0m         Inputs(\n\u001b[0;32m    270\u001b[0m             query\u001b[38;5;241m=\u001b[39mquery,\n\u001b[0;32m    271\u001b[0m             key\u001b[38;5;241m=\u001b[39mkey,\n\u001b[0;32m    272\u001b[0m             value\u001b[38;5;241m=\u001b[39mvalue,\n\u001b[0;32m    273\u001b[0m             p\u001b[38;5;241m=\u001b[39mp,\n\u001b[0;32m    274\u001b[0m             attn_bias\u001b[38;5;241m=\u001b[39mattn_bias,\n\u001b[0;32m    275\u001b[0m             scale\u001b[38;5;241m=\u001b[39mscale,\n\u001b[0;32m    276\u001b[0m             output_dtype\u001b[38;5;241m=\u001b[39moutput_dtype,\n\u001b[0;32m    277\u001b[0m         ),\n\u001b[0;32m    278\u001b[0m         op\u001b[38;5;241m=\u001b[39mop,\n\u001b[0;32m    279\u001b[0m     )\n",
      "File \u001b[1;32mD:\\anaconda3\\envs\\brain\\Lib\\site-packages\\xformers\\ops\\fmha\\__init__.py:387\u001b[0m, in \u001b[0;36m_memory_efficient_attention\u001b[1;34m(inp, op)\u001b[0m\n\u001b[0;32m    382\u001b[0m \u001b[38;5;28;01mdef\u001b[39;00m \u001b[38;5;21m_memory_efficient_attention\u001b[39m(\n\u001b[0;32m    383\u001b[0m     inp: Inputs, op: Optional[AttentionOp] \u001b[38;5;241m=\u001b[39m \u001b[38;5;28;01mNone\u001b[39;00m\n\u001b[0;32m    384\u001b[0m ) \u001b[38;5;241m-\u001b[39m\u001b[38;5;241m>\u001b[39m torch\u001b[38;5;241m.\u001b[39mTensor:\n\u001b[0;32m    385\u001b[0m     \u001b[38;5;66;03m# fast-path that doesn't require computing the logsumexp for backward computation\u001b[39;00m\n\u001b[0;32m    386\u001b[0m     \u001b[38;5;28;01mif\u001b[39;00m \u001b[38;5;28mall\u001b[39m(x\u001b[38;5;241m.\u001b[39mrequires_grad \u001b[38;5;129;01mis\u001b[39;00m \u001b[38;5;28;01mFalse\u001b[39;00m \u001b[38;5;28;01mfor\u001b[39;00m x \u001b[38;5;129;01min\u001b[39;00m [inp\u001b[38;5;241m.\u001b[39mquery, inp\u001b[38;5;241m.\u001b[39mkey, inp\u001b[38;5;241m.\u001b[39mvalue]):\n\u001b[1;32m--> 387\u001b[0m         \u001b[38;5;28;01mreturn\u001b[39;00m _memory_efficient_attention_forward(\n\u001b[0;32m    388\u001b[0m             inp, op\u001b[38;5;241m=\u001b[39mop[\u001b[38;5;241m0\u001b[39m] \u001b[38;5;28;01mif\u001b[39;00m op \u001b[38;5;129;01mis\u001b[39;00m \u001b[38;5;129;01mnot\u001b[39;00m \u001b[38;5;28;01mNone\u001b[39;00m \u001b[38;5;28;01melse\u001b[39;00m \u001b[38;5;28;01mNone\u001b[39;00m\n\u001b[0;32m    389\u001b[0m         )\n\u001b[0;32m    391\u001b[0m     output_shape \u001b[38;5;241m=\u001b[39m inp\u001b[38;5;241m.\u001b[39mnormalize_bmhk()\n\u001b[0;32m    392\u001b[0m     \u001b[38;5;28;01mreturn\u001b[39;00m _fMHA\u001b[38;5;241m.\u001b[39mapply(\n\u001b[0;32m    393\u001b[0m         op, inp\u001b[38;5;241m.\u001b[39mquery, inp\u001b[38;5;241m.\u001b[39mkey, inp\u001b[38;5;241m.\u001b[39mvalue, inp\u001b[38;5;241m.\u001b[39mattn_bias, inp\u001b[38;5;241m.\u001b[39mp, inp\u001b[38;5;241m.\u001b[39mscale\n\u001b[0;32m    394\u001b[0m     )\u001b[38;5;241m.\u001b[39mreshape(output_shape)\n",
      "File \u001b[1;32mD:\\anaconda3\\envs\\brain\\Lib\\site-packages\\xformers\\ops\\fmha\\__init__.py:403\u001b[0m, in \u001b[0;36m_memory_efficient_attention_forward\u001b[1;34m(inp, op)\u001b[0m\n\u001b[0;32m    401\u001b[0m output_shape \u001b[38;5;241m=\u001b[39m inp\u001b[38;5;241m.\u001b[39mnormalize_bmhk()\n\u001b[0;32m    402\u001b[0m \u001b[38;5;28;01mif\u001b[39;00m op \u001b[38;5;129;01mis\u001b[39;00m \u001b[38;5;28;01mNone\u001b[39;00m:\n\u001b[1;32m--> 403\u001b[0m     op \u001b[38;5;241m=\u001b[39m _dispatch_fw(inp, \u001b[38;5;28;01mFalse\u001b[39;00m)\n\u001b[0;32m    404\u001b[0m \u001b[38;5;28;01melse\u001b[39;00m:\n\u001b[0;32m    405\u001b[0m     _ensure_op_supports_or_raise(\u001b[38;5;167;01mValueError\u001b[39;00m, \u001b[38;5;124m\"\u001b[39m\u001b[38;5;124mmemory_efficient_attention\u001b[39m\u001b[38;5;124m\"\u001b[39m, op, inp)\n",
      "File \u001b[1;32mD:\\anaconda3\\envs\\brain\\Lib\\site-packages\\xformers\\ops\\fmha\\dispatch.py:125\u001b[0m, in \u001b[0;36m_dispatch_fw\u001b[1;34m(inp, needs_gradient)\u001b[0m\n\u001b[0;32m    116\u001b[0m \u001b[38;5;28;01mdef\u001b[39;00m \u001b[38;5;21m_dispatch_fw\u001b[39m(inp: Inputs, needs_gradient: \u001b[38;5;28mbool\u001b[39m) \u001b[38;5;241m-\u001b[39m\u001b[38;5;241m>\u001b[39m Type[AttentionFwOpBase]:\n\u001b[0;32m    117\u001b[0m \u001b[38;5;250m    \u001b[39m\u001b[38;5;124;03m\"\"\"Computes the best operator for forward\u001b[39;00m\n\u001b[0;32m    118\u001b[0m \n\u001b[0;32m    119\u001b[0m \u001b[38;5;124;03m    Raises:\u001b[39;00m\n\u001b[1;32m   (...)\u001b[0m\n\u001b[0;32m    123\u001b[0m \u001b[38;5;124;03m        AttentionOp: The best operator for the configuration\u001b[39;00m\n\u001b[0;32m    124\u001b[0m \u001b[38;5;124;03m    \"\"\"\u001b[39;00m\n\u001b[1;32m--> 125\u001b[0m     \u001b[38;5;28;01mreturn\u001b[39;00m _run_priority_list(\n\u001b[0;32m    126\u001b[0m         \u001b[38;5;124m\"\u001b[39m\u001b[38;5;124mmemory_efficient_attention_forward\u001b[39m\u001b[38;5;124m\"\u001b[39m,\n\u001b[0;32m    127\u001b[0m         _dispatch_fw_priority_list(inp, needs_gradient),\n\u001b[0;32m    128\u001b[0m         inp,\n\u001b[0;32m    129\u001b[0m     )\n",
      "File \u001b[1;32mD:\\anaconda3\\envs\\brain\\Lib\\site-packages\\xformers\\ops\\fmha\\dispatch.py:65\u001b[0m, in \u001b[0;36m_run_priority_list\u001b[1;34m(name, priority_list, inp)\u001b[0m\n\u001b[0;32m     63\u001b[0m \u001b[38;5;28;01mfor\u001b[39;00m op, not_supported \u001b[38;5;129;01min\u001b[39;00m \u001b[38;5;28mzip\u001b[39m(priority_list, not_supported_reasons):\n\u001b[0;32m     64\u001b[0m     msg \u001b[38;5;241m+\u001b[39m\u001b[38;5;241m=\u001b[39m \u001b[38;5;124m\"\u001b[39m\u001b[38;5;130;01m\\n\u001b[39;00m\u001b[38;5;124m\"\u001b[39m \u001b[38;5;241m+\u001b[39m _format_not_supported_reasons(op, not_supported)\n\u001b[1;32m---> 65\u001b[0m \u001b[38;5;28;01mraise\u001b[39;00m \u001b[38;5;167;01mNotImplementedError\u001b[39;00m(msg)\n",
      "\u001b[1;31mNotImplementedError\u001b[0m: No operator found for `memory_efficient_attention_forward` with inputs:\n     query       : shape=(4, 128, 8, 16) (torch.float32)\n     key         : shape=(4, 128, 8, 16) (torch.float32)\n     value       : shape=(4, 128, 8, 16) (torch.float32)\n     attn_bias   : <class 'NoneType'>\n     p           : 0.0\n`decoderF` is not supported because:\n    xFormers wasn't build with CUDA support\n    requires device with capability > (7, 0) but your GPU has capability (6, 1) (too old)\n    attn_bias type is <class 'NoneType'>\n`flshattF@0.0.0` is not supported because:\n    xFormers wasn't build with CUDA support\n    requires device with capability > (8, 0) but your GPU has capability (6, 1) (too old)\n    dtype=torch.float32 (supported: {torch.bfloat16, torch.float16})\n    operator wasn't built - see `python -m xformers.info` for more info\n`cutlassF` is not supported because:\n    xFormers wasn't build with CUDA support\n`smallkF` is not supported because:\n    xFormers wasn't build with CUDA support"
     ]
    }
   ],
   "source": [
    "q = torch.rand(4, 128, 8, 16).to(device)\n",
    "k = torch.rand(4, 128, 8, 16).to(device)\n",
    "v = torch.rand(4, 128, 8, 16).to(device)\n",
    "\n",
    "o = memory_efficient_attention(q, k, v)\n",
    "\n",
    "print(o)"
   ]
  },
  {
   "cell_type": "code",
   "execution_count": null,
   "id": "f32323b4",
   "metadata": {},
   "outputs": [],
   "source": []
  }
 ],
 "metadata": {
  "kernelspec": {
   "display_name": "brain",
   "language": "python",
   "name": "brain"
  },
  "language_info": {
   "codemirror_mode": {
    "name": "ipython",
    "version": 3
   },
   "file_extension": ".py",
   "mimetype": "text/x-python",
   "name": "python",
   "nbconvert_exporter": "python",
   "pygments_lexer": "ipython3",
   "version": "3.12.3"
  }
 },
 "nbformat": 4,
 "nbformat_minor": 5
}
