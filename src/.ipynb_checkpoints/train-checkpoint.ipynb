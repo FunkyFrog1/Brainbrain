{
 "cells": [
  {
   "cell_type": "code",
   "execution_count": 1,
   "id": "dffb5000",
   "metadata": {},
   "outputs": [
    {
     "name": "stdout",
     "output_type": "stream",
     "text": [
      "cuda:0\n"
     ]
    }
   ],
   "source": [
    "import torch\n",
    "import time\n",
    "import gc\n",
    "from torch.nn.functional import multi_head_attention_forward\n",
    "from xformers.ops.fmha import memory_efficient_attention\n",
    "\n",
    "device = torch.device('cuda:0' if torch.cuda.is_available() else 'cpu')\n",
    "print(device)"
   ]
  },
  {
   "cell_type": "markdown",
   "id": "8670321e",
   "metadata": {},
   "source": [
    "# 测试xformers与pytorch原生attention速度差距（可选运行）\n",
    "### 可用于测试torch和xformers是否安装成功，运行完测试确认无误后请手动重启内核\n"
   ]
  },
  {
   "cell_type": "code",
   "execution_count": 2,
   "id": "5f22c4cc",
   "metadata": {},
   "outputs": [
    {
     "name": "stdout",
     "output_type": "stream",
     "text": [
      "torch.Size([10000, 128, 8, 16])\n"
     ]
    },
    {
     "name": "stderr",
     "output_type": "stream",
     "text": [
      "D:\\anaconda3\\envs\\brain\\Lib\\site-packages\\torch\\nn\\functional.py:5504: UserWarning: 1Torch was not compiled with flash attention. (Triggered internally at ..\\aten\\src\\ATen\\native\\transformers\\cuda\\sdp_utils.cpp:455.)\n",
      "  attn_output = scaled_dot_product_attention(q, k, v, attn_mask, dropout_p, is_causal)\n"
     ]
    },
    {
     "name": "stdout",
     "output_type": "stream",
     "text": [
      "torch.Size([10000, 128, 128])\n",
      "PyTorch attention time: 0.6156485080718994\n",
      "xFormers attention time: 0.003998994827270508\n"
     ]
    },
    {
     "data": {
      "text/plain": [
       "0"
      ]
     },
     "execution_count": 2,
     "metadata": {},
     "output_type": "execute_result"
    }
   ],
   "source": [
    "# 初始化输入\n",
    "q = torch.rand(10000, 128, 8, 16).to(device)\n",
    "k = torch.rand(10000, 128, 8, 16).to(device)\n",
    "v = torch.rand(10000, 128, 8, 16).to(device)\n",
    "\n",
    "# xFormers的memory_efficient_attention\n",
    "start_time = time.time()\n",
    "xformers_output = memory_efficient_attention(q, k, v)\n",
    "print(xformers_output.shape)\n",
    "xformers_time = time.time() - start_time\n",
    "\n",
    "# PyTorch原生的attention\n",
    "start_time = time.time()\n",
    "attn_output, _ = multi_head_attention_forward(\n",
    "    query=q.view(q.shape[0], q.shape[1], -1),\n",
    "    key=k.view(k.shape[0], k.shape[1], -1),\n",
    "    value=v.view(v.shape[0], k.shape[1], -1),\n",
    "    embed_dim_to_check=16*8,\n",
    "    num_heads=8,\n",
    "    in_proj_weight=torch.rand(3*16*8, 16*8).to(device),\n",
    "    in_proj_bias=torch.rand(3*16*8).to(device),\n",
    "    bias_k=None,\n",
    "    bias_v=None,\n",
    "    add_zero_attn=False,\n",
    "    dropout_p=0.0,\n",
    "    out_proj_weight=torch.rand(128, 128).to(device),\n",
    "    out_proj_bias=torch.rand(128).to(device),\n",
    "    training=True,\n",
    "    key_padding_mask=None,\n",
    "    need_weights=False,\n",
    "    attn_mask=None,\n",
    "    use_separate_proj_weight=True,\n",
    "    q_proj_weight=torch.rand(128, 128).to(device),\n",
    "    k_proj_weight=torch.rand(128, 128).to(device),\n",
    "    v_proj_weight=torch.rand(128, 128).to(device),\n",
    "    static_k=None,\n",
    "    static_v=None\n",
    ")\n",
    "print(attn_output.shape)\n",
    "pytorch_time = time.time() - start_time\n",
    "\n",
    "print(f\"PyTorch attention time: {pytorch_time}\")\n",
    "print(f\"xFormers attention time: {xformers_time}\")"
   ]
  },
  {
   "cell_type": "code",
   "execution_count": null,
   "id": "ccaf20df",
   "metadata": {},
   "outputs": [],
   "source": []
  }
 ],
 "metadata": {
  "kernelspec": {
   "display_name": "brain",
   "language": "python",
   "name": "brain"
  },
  "language_info": {
   "codemirror_mode": {
    "name": "ipython",
    "version": 3
   },
   "file_extension": ".py",
   "mimetype": "text/x-python",
   "name": "python",
   "nbconvert_exporter": "python",
   "pygments_lexer": "ipython3",
   "version": "3.12.3"
  }
 },
 "nbformat": 4,
 "nbformat_minor": 5
}
